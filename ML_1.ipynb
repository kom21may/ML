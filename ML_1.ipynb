{
 "cells": [
  {
   "cell_type": "markdown",
   "metadata": {},
   "source": [
    "What does one mean by the term &quot;machine learning&quot;?"
   ]
  },
  {
   "cell_type": "markdown",
   "metadata": {},
   "source": [
    "Machine learning is an application of AI that enables systems to learn and improve from experience without being explicitly programmed. Machine learning focuses on developing computer programs that can access data and use it to learn for themselves.\n",
    "\n",
    "Artificial intelligence is the simulation of human intelligence processes by machines, especially computer systems. Specific applications of AI include expert systems, natural language processing, speech recognition and machine vision."
   ]
  },
  {
   "cell_type": "markdown",
   "metadata": {},
   "source": [
    "2. Can you think of 4 distinct types of issues where it shines?\n",
    "\n",
    "speech recognition, recommendation system, image and video processing, NLP"
   ]
  },
  {
   "cell_type": "markdown",
   "metadata": {},
   "source": [
    "3. What is a labeled training set, and how does it work?\n",
    "labeled training set is the part of dataset which is used to train the model and then that train model is worked with test data to predict the output. finally the predicted output and the actual out is compared and how close they are descibed how good the model is build."
   ]
  },
  {
   "cell_type": "markdown",
   "metadata": {},
   "source": [
    "4. What are the two most important tasks that are supervised?\n",
    "\n",
    "Regrssion and classification are the two most important tasks that are supervised"
   ]
  },
  {
   "cell_type": "markdown",
   "metadata": {},
   "source": [
    "5. Can you think of four examples of unsupervised tasks?\n",
    "\n",
    "four examples of unsupervised task are clustering,dimension reduction, visualization and association rule learning"
   ]
  },
  {
   "cell_type": "markdown",
   "metadata": {},
   "source": [
    "6. State the machine learning model that would be best to make a robot walk through various\n",
    "unfamiliar terrains?\n",
    "\n",
    "The best Machine Learning algorithm to allow a robot to walk in unknown terrain is Reinforced Learning, where the robot can learn from response of the terrain to optimize itself."
   ]
  },
  {
   "cell_type": "markdown",
   "metadata": {},
   "source": [
    "7. Which algorithm will you use to divide your customers into different groups?\n",
    "\n",
    "We will use the k-means clustering algorithm to derive the optimum number of clusters and understand the underlying customer segments based on the data provided."
   ]
  },
  {
   "cell_type": "markdown",
   "metadata": {},
   "source": [
    "8. Will you consider the problem of spam detection to be a supervised or unsupervised learning\n",
    "problem?\n",
    "\n",
    "Spam detection is example of supervised learning (classification type in supervised in which the mail classified into spam and not spam)"
   ]
  },
  {
   "cell_type": "markdown",
   "metadata": {},
   "source": [
    "9. what is the concept of online learning system>\n",
    "\n",
    "It's an alternative way to study at university, and instead of going to classrooms, you study at home, or wherever you choose, via the internet. Classes, teaching materials, support, and assessments are all delivered online. Often, these are also recorded so they can be re-watched."
   ]
  },
  {
   "cell_type": "markdown",
   "metadata": {},
   "source": [
    "10.What is out-of-core learning, and how does it differ from core learning?\n",
    "\n",
    "Out-of-core (or “external memory”) learning is a technique used to learn from data that cannot fit in a computer's main memory (RAM). and the technique which is used to learn from data that fit in a computer's main memory."
   ]
  },
  {
   "cell_type": "markdown",
   "metadata": {},
   "source": [
    "11.What kind of learning algorithm makes predictions using a similarity measure?\n",
    "Learning algorithm that relies on a similarity measure to make predictions is instance-based algorithm."
   ]
  },
  {
   "cell_type": "markdown",
   "metadata": {},
   "source": [
    "12.What&#39;s the difference between a model parameter and a hyperparameter in a learning\n",
    "algorithm? "
   ]
  },
  {
   "cell_type": "markdown",
   "metadata": {},
   "source": [
    "Model parameter determines how a model will predict given a new instance. model usually has more than one parameter (i.e. slope of a linear model). Hyperparameter is a parameter for the learning algorithm, not of a model.\n",
    "\n",
    "#model parameter\n",
    "They are required for making predictions\t\n",
    "They are estimated by optimization algorithms(Gradient Descent, Adam, Adagrad)\t\n",
    "They are not set manually.\n",
    "The final parameters found after training will decide how the model will perform on unseen data\t \n",
    "ex:\n",
    "m(slope) and c(intercept) in Linear Regression\n",
    "weights and biases in Neural Networks\n",
    "\n",
    "#hyperparameter\n",
    "They are estimated by hyperparameter tuning\n",
    "They are required for estimating the model parameters\n",
    "They are set manually\n",
    "The choice of hyperparameters decide how efficient the training is.\n",
    "In gradient descent the learning rate decide how efficient and accurate the optimization process is in estimating the parameters\n",
    "ex:\n",
    "Learning rate in gradient descent\n",
    "Number of iterations in gradient descent\n",
    "Number of layers in a Neural Network\n",
    "Number of neurons per layer in a Neural Network\n",
    "Number of clusters(k) in k means clustering"
   ]
  },
  {
   "cell_type": "markdown",
   "metadata": {},
   "source": [
    "13. What are the criteria that model-based learning algorithms look for? What is the most popular\n",
    "method they use to achieve success? What method do they use to make predictions?"
   ]
  },
  {
   "cell_type": "markdown",
   "metadata": {},
   "source": [
    "Model based learning algorithm search for the optimal value of parameters in a model that will give the best results for the new instances. We often use a cost function or similar to determine what the parameter value has to be in order to minimize the function. The model makes prediction by using the value of the new instance and the parameters in its function"
   ]
  },
  {
   "cell_type": "markdown",
   "metadata": {},
   "source": [
    " 14.Can you name four of the most important Machine Learning challenges?\n",
    "    Four main challenges in Machine Learning include overfitting the data (using a model too complicated), underfitting the data (using a simple model), lacking in data and nonrepresentative data."
   ]
  },
  {
   "cell_type": "markdown",
   "metadata": {},
   "source": [
    "If the model performs poorly to new instances, then it has overfit on the training data. To solve this, we can do any of the following three: get more data, implement a simpler model, or eliminate outliers or noise from the existing data set."
   ]
  },
  {
   "cell_type": "markdown",
   "metadata": {},
   "source": [
    "16.What exactly is a test set, and why would you need one?\n",
    "\n",
    "Test set is a set that you test your model (fit using training data) to see how it performs. Test set is necessary so that you can determine how good (or bad) your model performs.\n"
   ]
  },
  {
   "cell_type": "markdown",
   "metadata": {},
   "source": [
    "17.What is a validation set&#39;s purpose?"
   ]
  },
  {
   "cell_type": "markdown",
   "metadata": {},
   "source": [
    "The validation set is used for hyperparameter tuning. The test set is used for the final evaluation of the best model. The validation set is not needed (redundant) if you're not going to perform hyperparameter tuning"
   ]
  },
  {
   "cell_type": "markdown",
   "metadata": {},
   "source": [
    "18.What could go wrong if you use the test set to tune hyperparameters?\n",
    "\n",
    "If you tune hyperparameters using the test sets, then it may not perform well on the out-of-sample data because the model is tuned just for that specific set."
   ]
  },
  {
   "cell_type": "code",
   "execution_count": null,
   "metadata": {},
   "outputs": [],
   "source": []
  }
 ],
 "metadata": {
  "kernelspec": {
   "display_name": "Python 3",
   "language": "python",
   "name": "python3"
  },
  "language_info": {
   "codemirror_mode": {
    "name": "ipython",
    "version": 3
   },
   "file_extension": ".py",
   "mimetype": "text/x-python",
   "name": "python",
   "nbconvert_exporter": "python",
   "pygments_lexer": "ipython3",
   "version": "3.7.3"
  }
 },
 "nbformat": 4,
 "nbformat_minor": 4
}
