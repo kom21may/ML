{
 "cells": [
  {
   "cell_type": "markdown",
   "id": "f1b22ec1",
   "metadata": {},
   "source": [
    "1. Define the Bayesian interpretation of probability. in 100 words\n",
    "\n",
    "The Bayesian interpretation of probability views probability as a measure of subjective belief or uncertainty about an event. It incorporates prior knowledge and updates it based on new evidence using Bayes' theorem. This interpretation emphasizes the role of personal beliefs and allows individuals to quantify their uncertainty using probability distributions. Prior probabilities reflect initial beliefs, while likelihood functions quantify the probability of observing the data given certain parameters. The Bayesian interpretation provides a framework for updating beliefs using observed data, enabling rational decision-making based on a combination of prior knowledge and empirical evidence."
   ]
  },
  {
   "cell_type": "markdown",
   "id": "116cdfef",
   "metadata": {},
   "source": [
    "2. Define probability of a union of two events with equation.\n",
    "\n",
    "The probability of the union of two events, denoted as \"A ∪ B,\" is defined as the probability that at least one of the two events occurs. Mathematically, it can be expressed as:\n",
    "\n",
    "P(A ∪ B) = P(A) + P(B) - P(A ∩ B),\n",
    "\n",
    "where P(A) represents the probability of event A, P(B) represents the probability of event B, and P(A ∩ B) represents the probability of the intersection of events A and B.\n",
    "\n",
    "The equation accounts for the fact that when we add the probabilities of A and B, we are counting the intersection (A ∩ B) twice. Therefore, we subtract the probability of the intersection to avoid double-counting and ensure that the union probability is calculated correctly.The probability of the union of two events, denoted as \"A ∪ B,\" is defined as the probability that at least one of the two events occurs. Mathematically, it can be expressed as:\n",
    "\n",
    "P(A ∪ B) = P(A) + P(B) - P(A ∩ B),\n",
    "\n",
    "where P(A) represents the probability of event A, P(B) represents the probability of event B, and P(A ∩ B) represents the probability of the intersection of events A and B.\n",
    "\n",
    "The equation accounts for the fact that when we add the probabilities of A and B, we are counting the intersection (A ∩ B) twice. Therefore, we subtract the probability of the intersection to avoid double-counting and ensure that the union probability is calculated correctly. "
   ]
  },
  {
   "cell_type": "markdown",
   "id": "4ec4e2a8",
   "metadata": {},
   "source": [
    "3. What is joint probability? What is its formula? in 100 words\n",
    "\n",
    "Joint probability refers to the probability of the occurrence of two or more events happening simultaneously. It represents the probability that multiple events A, B, C, etc., all occur at the same time. The formula for joint probability is:\n",
    "\n",
    "P(A ∩ B) = P(A) * P(B|A),\n",
    "\n",
    "where P(A ∩ B) represents the joint probability of events A and B, P(A) is the probability of event A, and P(B|A) is the conditional probability of event B given that event A has occurred. The formula reflects the idea that the joint probability can be calculated by multiplying the probability of one event with the conditional probability of the other event given the occurrence of the first event."
   ]
  },
  {
   "cell_type": "markdown",
   "id": "ed5c4aab",
   "metadata": {},
   "source": [
    "4. What is chain rule of probability? \n",
    "\n",
    "The chain rule of probability, also known as the multiplication rule, is a fundamental principle used to calculate the probability of multiple events occurring together. It states that the joint probability of a series of events can be computed by multiplying the conditional probabilities of each event given the occurrence of the previous events. Mathematically, the chain rule can be expressed as:\n",
    "\n",
    "P(A₁ ∩ A₂ ∩ A₃ ∩ ... ∩ Aₙ) = P(A₁) * P(A₂ | A₁) * P(A₃ | A₁ ∩ A₂) * ... * P(Aₙ | A₁ ∩ A₂ ∩ ... ∩ Aₙ₋₁),\n",
    "\n",
    "where P(Aᵢ) represents the probability of event Aᵢ, and P(Aᵢ | A₁ ∩ A₂ ∩ ... ∩ Aᵢ₋₁) denotes the conditional probability of event Aᵢ given the occurrence of all the previous events. The chain rule enables the calculation of the joint probability of a sequence of events by considering the dependencies between them."
   ]
  },
  {
   "cell_type": "markdown",
   "id": "40cb7e83",
   "metadata": {},
   "source": [
    "5. What is conditional probability means? What is the formula of it?\n",
    "6. What are continuous random variables?\n",
    "\n",
    "Conditional probability refers to the probability of an event occurring given that another event has already occurred. It quantifies the likelihood of an event A happening, given the knowledge or assumption that event B has occurred. The formula for conditional probability is:\n",
    "P(A|B) = P(A ∩ B) / P(B),\n",
    "\n",
    "where P(A|B) represents the conditional probability of event A given event B, P(A ∩ B) is the joint probability of events A and B, and P(B) is the probability of event B. The formula computes the ratio of the joint probability to the probability of the condition, providing a measure of the likelihood of event A occurring under the given condition of event B.\n",
    "\n",
    "Continuous random variables are variables that can take on any value within a specific interval or range. They typically represent measurements or quantities that can be expressed as real numbers. Continuous random variables have an infinite number of possible outcomes, making them distinct from discrete random variables, which have a finite or countable number of possible outcomes. The probability distribution of a continuous random variable is described by a probability density function (PDF), such as the normal distribution. The probability of obtaining a specific value with a continuous random variable is zero since there are infinitely many possible values. Instead, probabilities are assigned to intervals or ranges of values."
   ]
  },
  {
   "cell_type": "markdown",
   "id": "395848fe",
   "metadata": {},
   "source": [
    "\n",
    "7. What are Bernoulli distributions? What is the formula of it?\n",
    "8. What is binomial distribution? What is the formula?\n",
    "\n",
    "The Bernoulli distribution is a discrete probability distribution that models a random variable with two possible outcomes, typically labeled as success (usually denoted as 1) or failure (usually denoted as 0). It is used to describe a single independent trial or experiment with a binary outcome. The probability of success, denoted as p, remains constant for each trial. The formula for the Bernoulli distribution is:\n",
    "P(X = x) = p^x * (1-p)^(1-x),\n",
    "\n",
    "where X is the random variable that takes the value 1 for success and 0 for failure, x is the observed outcome (either 0 or 1), and p is the probability of success.\n",
    "\n",
    "The binomial distribution is a discrete probability distribution that models the number of successes in a fixed number of independent Bernoulli trials or experiments. Each trial has two possible outcomes: success or failure, with a constant probability of success denoted as p. The binomial distribution is characterized by two parameters: the number of trials (n) and the probability of success (p). The formula for the binomial distribution is:\n",
    "P(X = k) = (n choose k) * p^k * (1-p)^(n-k),\n",
    "\n",
    "where X is the random variable representing the number of successes, k is the number of successes observed, n is the number of trials, p is the probability of success, and (n choose k) represents the binomial coefficient, which calculates the number of ways to choose k successes out of n trials.\n"
   ]
  },
  {
   "cell_type": "markdown",
   "id": "03ee5dcf",
   "metadata": {},
   "source": [
    "9. What is Poisson distribution? What is the formula?\n",
    "\n",
    "The Poisson distribution is a discrete probability distribution that models the number of events that occur within a fixed interval of time or space when the events occur at a constant rate and independently of the time since the last event. It is often used to model rare events.\n",
    "\n",
    "The formula for the Poisson distribution is:\n",
    "\n",
    "P(X = k) = (e^(-λ) * λ^k) / k!,\n",
    "\n",
    "where X is the random variable representing the number of events, k is the number of events observed, λ (lambda) is the average rate or expected number of events within the given interval, e is the base of the natural logarithm, and k! denotes the factorial of k.\n",
    "\n",
    "The Poisson distribution assumes that the events occur randomly and independently and that the average rate of events is constant. It is particularly useful in situations where the events are infrequent or rare, and the probability of multiple events occurring simultaneously is low."
   ]
  },
  {
   "cell_type": "markdown",
   "id": "609dbd65",
   "metadata": {},
   "source": [
    "10. Define covariance.\n",
    "\n",
    "Covariance is an indicator of the extent to which 2 random variables are dependent on each other. A higher number denotes higher dependency. \n",
    "A positive covariance indicates that the variables tend to vary together, while a negative covariance indicates that they vary in opposite directions. However, the magnitude of the covariance is not standardized, making it difficult to compare across different datasets.\n",
    "\n",
    "11. Define correlation\n",
    "Correlation is a statistical measure that indicates how strongly two variables are related. The value of covariance lies in the range of -∞ and +∞.\n",
    "A correlation of +1 indicates a perfect positive linear relationship, a correlation of -1 indicates a perfect negative linear relationship, and a correlation of 0 indicates no linear relationship. Correlation measures the linear association but does not imply causation between variables"
   ]
  },
  {
   "cell_type": "markdown",
   "id": "ce68ec84",
   "metadata": {},
   "source": [
    "12. Define sampling with replacement. Give example.\n",
    "\n",
    "Sampling with replacement refers to a sampling method where, after each selection, the chosen item is returned to the population, making it available for selection again. This means that each item in the population has an equal chance of being selected at each draw, and multiple instances of the same item can be included in the sample. For example, if you have a bag with ten colored balls (red, blue, and green), and you randomly select a ball, record its color, put it back in the bag, and repeat the process multiple times, you are sampling with replacement.\n",
    "\n",
    "13. What is sampling without replacement? Give example.\n",
    "Sampling without replacement refers to a sampling method where, once an item is selected from the population, it is not returned to the population, making it unavailable for subsequent selections. This leads to a decreasing population size with each selection and ensures that each item can be chosen only once in the sample. For example, if you have a deck of playing cards and you draw a card from the deck, record its value and suit, and do not return it to the deck before the next draw, you are sampling without replacement."
   ]
  },
  {
   "cell_type": "markdown",
   "id": "e847c746",
   "metadata": {},
   "source": [
    "14. What is hypothesis? Give example.\n",
    "A hypothesis is a proposed explanation or statement that suggests a relationship between variables or provides a possible solution to a problem. It is an essential component of the scientific method and serves as a starting point for further investigation and testing.\n",
    "\n",
    "For example, let's consider a hypothesis in the field of psychology:\n",
    "\n",
    "Hypothesis: \"Exposure to natural environments has a positive impact on individuals' mental well-being.\"\n",
    "\n",
    "In this example, the hypothesis suggests that there is a relationship between exposure to natural environments (the independent variable) and mental well-being (the dependent variable). The hypothesis proposes that increased exposure to natural environments will result in improved mental well-being. This hypothesis can be tested through empirical research and data collection to determine its validity."
   ]
  }
 ],
 "metadata": {
  "kernelspec": {
   "display_name": "Python 3 (ipykernel)",
   "language": "python",
   "name": "python3"
  },
  "language_info": {
   "codemirror_mode": {
    "name": "ipython",
    "version": 3
   },
   "file_extension": ".py",
   "mimetype": "text/x-python",
   "name": "python",
   "nbconvert_exporter": "python",
   "pygments_lexer": "ipython3",
   "version": "3.10.9"
  }
 },
 "nbformat": 4,
 "nbformat_minor": 5
}
